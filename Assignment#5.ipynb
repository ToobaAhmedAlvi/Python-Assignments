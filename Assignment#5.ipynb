{
 "cells": [
  {
   "cell_type": "code",
   "execution_count": 2,
   "metadata": {},
   "outputs": [
    {
     "name": "stdout",
     "output_type": "stream",
     "text": [
      "Enter a number to calculate its factiorial 5\n",
      "the factorial of 5 is 20\n"
     ]
    }
   ],
   "source": [
    "#Q1\n",
    "def factorial(n):\n",
    "    if n == 0:\n",
    "        return 1\n",
    "    else:\n",
    "        return n*(n-1)\n",
    "num=int(input(\"Enter a number to calculate its factiorial \"))\n",
    "print(\"the factorial of {} is {}\".format(num,factorial(num)))"
   ]
  },
  {
   "cell_type": "code",
   "execution_count": 3,
   "metadata": {},
   "outputs": [
    {
     "name": "stdout",
     "output_type": "stream",
     "text": [
      "enter your stringToobaAhmedAlvi\n",
      "Original String :  ToobaAhmedAlvi\n",
      "Total Letters in String:  14\n",
      "No. of Upper case characters :  3\n",
      "No. of Lower case Characters :  11\n"
     ]
    }
   ],
   "source": [
    "#Q2\n",
    "def string_test(s):\n",
    "    UPPER_CASE=0\n",
    "    LOWER_CASE=0\n",
    "   \n",
    "    for c in s:\n",
    "        if c.isupper():\n",
    "           UPPER_CASE +=1\n",
    "        elif c.islower():\n",
    "           LOWER_CASE +=1\n",
    "    add=UPPER_CASE+LOWER_CASE\n",
    "    print (\"Original String : \", s)\n",
    "    print(\"Total Letters in String: \",add)\n",
    "    print (\"No. of Upper case characters : \",UPPER_CASE)\n",
    "    print (\"No. of Lower case Characters : \", LOWER_CASE)\n",
    "   \n",
    "inp=input(\"enter your string\")\n",
    "string_test(inp)"
   ]
  },
  {
   "cell_type": "code",
   "execution_count": 4,
   "metadata": {},
   "outputs": [
    {
     "name": "stdout",
     "output_type": "stream",
     "text": [
      "The even numbers are:\n",
      "2 4 6 8 10 "
     ]
    }
   ],
   "source": [
    "#Q3\n",
    "list= [1,2,3,4,5,6,7,8,9,10] \n",
    "def EvenNumber(l):\n",
    "   for num in list: \n",
    "       \n",
    "    if num % 2 == 0: \n",
    "       print(num, end = \" \") \n",
    "print(\"The even numbers are:\")\n",
    "EvenNumber(list)"
   ]
  },
  {
   "cell_type": "code",
   "execution_count": 1,
   "metadata": {},
   "outputs": [
    {
     "name": "stdout",
     "output_type": "stream",
     "text": [
      "Enter your phrase or word in lowercase:level\n"
     ]
    },
    {
     "data": {
      "text/plain": [
       "True"
      ]
     },
     "execution_count": 1,
     "metadata": {},
     "output_type": "execute_result"
    }
   ],
   "source": [
    "#Q4\n",
    "def isPalindrome(string):\n",
    "    left_pos = 0\n",
    "    right_pos = len(string) - 1\n",
    "\n",
    "    while right_pos >= left_pos:\n",
    "        if not string[left_pos] == string[right_pos]:\n",
    "            return False\n",
    "        left_pos += 1\n",
    "        right_pos -= 1\n",
    "    return True\n",
    "inputval=input(\"Enter your phrase or word in lowercase:\" )\n",
    "isPalindrome(inputval)"
   ]
  },
  {
   "cell_type": "code",
   "execution_count": 2,
   "metadata": {},
   "outputs": [
    {
     "name": "stdout",
     "output_type": "stream",
     "text": [
      "Enter any no. of your choice43\n",
      "43 is a prime number\n"
     ]
    }
   ],
   "source": [
    "#Q5 Program to check if a number is prime or not\n",
    "num =int(input(\"Enter any no. of your choice\"))\n",
    "\n",
    "if num > 1:\n",
    "  \n",
    "   for i in range(2,num):\n",
    "       if (num % i) == 0:\n",
    "           print(num,\"is not a prime number\")\n",
    "          \n",
    "           break\n",
    "   else:\n",
    "       print(num,\"is a prime number\")\n",
    "       \n",
    "\n",
    "else:\n",
    "   print(num,\"is not a prime number\")"
   ]
  },
  {
   "cell_type": "code",
   "execution_count": 1,
   "metadata": {},
   "outputs": [
    {
     "name": "stdout",
     "output_type": "stream",
     "text": [
      "My shopping List:\n",
      "write your items from shopping\n",
      "Apple\n",
      "write the quantity of such item purchased\n",
      "3\n",
      "write the price of this item\n",
      "15\n",
      "Press c to continue or q to quitc\n",
      "-------------------The items bought from the market are--------------\n",
      "\n",
      "[{'name': 'Apple', 'quant': '3', 'price': '15', 'totalPrice': 45}]\n",
      "My shopping List:\n",
      "write your items from shopping\n",
      "potato\n",
      "write the quantity of such item purchased\n",
      "12\n",
      "write the price of this item\n",
      "16\n",
      "Press c to continue or q to quitq\n",
      "-------------------The items bought from the market are--------------\n",
      "\n",
      "[{'name': 'potato', 'quant': '12', 'price': '16', 'totalPrice': 192}, {'name': 'potato', 'quant': '12', 'price': '16', 'totalPrice': 192}]\n"
     ]
    }
   ],
   "source": [
    "#Q6\n",
    "def market():\n",
    "    a =dict()\n",
    "    grocery_purchased=[]\n",
    "    \n",
    "    \n",
    "\n",
    "    while True:\n",
    "        print(\"My shopping List:\")\n",
    "           \n",
    "        \n",
    "        a[\"name\"]=input(\"write your items from shopping\\n\")\n",
    "        a[\"quant\"]=input(\"write the quantity of such item purchased\\n\")\n",
    "        a[\"price\"]=input(\"write the price of this item\\n\")\n",
    "        a[\"totalPrice\"]=int(a[\"price\"])*int(a[\"quant\"])\n",
    "        grocery_purchased.append(a)\n",
    "        choice = str(input('Press c to continue or q to quit'))\n",
    "        if choice == 'c':\n",
    "            print(\"-------------------The items bought from the market are--------------\\n\")\n",
    "            print(grocery_purchased)\n",
    "        else:\n",
    "            print(\"-------------------The items bought from the market are--------------\\n\")\n",
    "            print(grocery_purchased)\n",
    "            break\n",
    "       \n",
    "        \n",
    "market()\n"
   ]
  },
  {
   "cell_type": "code",
   "execution_count": null,
   "metadata": {},
   "outputs": [],
   "source": []
  }
 ],
 "metadata": {
  "kernelspec": {
   "display_name": "Python 3",
   "language": "python",
   "name": "python3"
  },
  "language_info": {
   "codemirror_mode": {
    "name": "ipython",
    "version": 3
   },
   "file_extension": ".py",
   "mimetype": "text/x-python",
   "name": "python",
   "nbconvert_exporter": "python",
   "pygments_lexer": "ipython3",
   "version": "3.7.4"
  }
 },
 "nbformat": 4,
 "nbformat_minor": 2
}
