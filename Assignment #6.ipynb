{
 "cells": [
  {
   "cell_type": "code",
   "execution_count": null,
   "metadata": {},
   "outputs": [],
   "source": [
    "Q1.Define Object Oriented Programming Language?\n",
    "\n",
    "ANSWER:\n",
    "    OOP refers to a programming methodology based on objects, instead of just functions and procedures.\n",
    "Object-oriented programming is a programming paradigm based on the concept of real world  objects and classes,\n",
    "where Objects can interact with member functions.\n"
   ]
  },
  {
   "cell_type": "code",
   "execution_count": null,
   "metadata": {},
   "outputs": [],
   "source": [
    "Q2.List down the Benefits of OOP?\n",
    "\n",
    "ANSWER:\n",
    "    REUSABILTY-->The code is reusable and easily understandable\n",
    "MAINTAINABILITY-->The code is more flexible and easily maintained with small changes\n",
    "EXTENSIBILITY-->Inheritance allows to built from older classes\n",
    "SIMPLICITY-->Reduces Complexity of code and make it easier for programmer \n",
    "SUPPORTS USER DEFINED OPERATORS-->Operators can be overloaded using operator overloading\n",
    "All OOP features like Abstraction,Encapsulation,Inheritance & Polymorphism makes it more worthy and useful for programmers\n"
   ]
  },
  {
   "cell_type": "code",
   "execution_count": null,
   "metadata": {},
   "outputs": [],
   "source": [
    "Q3.Differentiate between function and method?\n",
    "ANSWER:\n",
    "    1.A function is a piece of code that is called by  its name. \n",
    "    A method is a piece of code that is called by a name that is associated with an object. \n",
    "\n",
    "\n",
    "    2.All data that is passed to a function is explicitly passed.\n",
    "    A method is implicitly passed the object on which it was called.\n",
    "\n",
    "\n",
    "    3.A function is able to operate outside a class.\n",
    "    A method is able to operate on data that is contained within the class.\n",
    "\n"
   ]
  },
  {
   "cell_type": "code",
   "execution_count": null,
   "metadata": {},
   "outputs": [],
   "source": [
    "Q4.Define the following terms:\n",
    "1. Class\n",
    "2. Object\n",
    "3. Attribute\n",
    "4. Behavior\n",
    "\n",
    "ANSWER:\n",
    "    \n",
    "1.CLASS\n",
    "It is just a kind of a design or a type where everything is defined.\n",
    "It is actually a user-defined data type which holds its own data members and member functions.\n",
    "It tells about the state of an object.\n",
    "When we say we are humans ,we mean,we belong to that class or atype.\n",
    "2.OBJECT\n",
    " An object is an instance of a class.\n",
    "It can have states and behavior.\n",
    "It refers to everything which has a physical existence.\n",
    "3.ATTRIBUTE\n",
    "Attributes are stored data on class which represent the state or quality of the class or object.\n",
    "4.BEHAVIOUR\n",
    "The term behavior refers to the reaction of how an object will \"react\" if asked to do something by another class or object\n",
    "If its internal state changes, it is defined by its methods and that would inturn affect the behavior of that class or object."
   ]
  },
  {
   "cell_type": "code",
   "execution_count": 46,
   "metadata": {},
   "outputs": [
    {
     "name": "stdout",
     "output_type": "stream",
     "text": [
      "---------------------METHODS----------------\n",
      "\n",
      "Engine started\n",
      "Engine Stopped\n",
      "Brakes Are Applied to reduce speed\n",
      "\n",
      "-----------------INSTANCES---------------\n",
      " First object-->Civic red 2015 Honda with 100 BHP\n",
      "Second object-->Corolla blue 1998 Toyota with 140 BHP\n",
      "Third object-->C-MaX white 2010 Ford with 105 BHP\n",
      "Fourth object-->A1 HatchBack grey 2018 Audi with 130 BHP\n",
      "Fifth object-->370Z black 2009 Nissan with 160 BHP\n"
     ]
    }
   ],
   "source": [
    "#Q5.Write a code in python in which create a class named it Car which\n",
    "#have 5 attributes such like (model, color and name etc.) and 3\n",
    "#methods. And create 5 object instance from that class.\n",
    "\n",
    "class Car():\n",
    "    def __init__(self,model,color,name,power,company):\n",
    "        self.model=model\n",
    "        self.color=color\n",
    "        self.name=name\n",
    "        self.power=power\n",
    "        self.company=company\n",
    "    def __str__(self):\n",
    "        return \"Car class Object\"\n",
    "\n",
    "    def start(self):\n",
    "        print (\"Engine started\")\n",
    "    def stop(self):\n",
    "        print(\"Engine Stopped\")\n",
    "    def applyBrakes(self):\n",
    "        print(\"Brakes Are Applied to reduce speed\")\n",
    "\n",
    "\n",
    "#OBJECTS\n",
    "car1=Car(2015,\"red\",\"Civic\",\"100 BHP\",\"Honda\")\n",
    "car2=Car(1998,\"blue\",\"Corolla\",\"140 BHP\",\"Toyota\")\n",
    "car3=Car(2010,\"white\",\"C-MaX\",\"105 BHP\",\"Ford\")\n",
    "car4=Car(2018,\"grey\",\"A1 HatchBack\",\"130 BHP\",\"Audi\")\n",
    "car5=Car(2009,\"black\",\"370Z\",\"160 BHP\",\"Nissan\")\n",
    "#METHODS\n",
    "print(\"---------------------METHODS----------------\\n\")\n",
    "car1.start()\n",
    "car2.stop()\n",
    "car3.applyBrakes()\n",
    "print(\"\\n-----------------INSTANCES---------------\")\n",
    "print(\" \"+\"First object-->\"+car1.name,car1.color,car1.model,car1.company +\" \"+\"with\"+\" \"+car1.power)\n",
    "print(\"Second object-->\"+car2.name,car2.color,car2.model,car2.company +\" \"+\"with\"+\" \"+car2.power)\n",
    "print(\"Third object-->\"+car3.name,car3.color,car3.model,car3.company +\" \"+\"with\"+\" \"+car3.power)\n",
    "print(\"Fourth object-->\"+car4.name,car4.color,car4.model,car4.company +\" \"+\"with\"+\" \"+car4.power)\n",
    "print(\"Fifth object-->\"+car5.name,car5.color,car5.model,car5.company +\" \"+\"with\"+\" \"+car5.power)"
   ]
  },
  {
   "cell_type": "code",
   "execution_count": null,
   "metadata": {},
   "outputs": [],
   "source": []
  }
 ],
 "metadata": {
  "kernelspec": {
   "display_name": "Python 3",
   "language": "python",
   "name": "python3"
  },
  "language_info": {
   "codemirror_mode": {
    "name": "ipython",
    "version": 3
   },
   "file_extension": ".py",
   "mimetype": "text/x-python",
   "name": "python",
   "nbconvert_exporter": "python",
   "pygments_lexer": "ipython3",
   "version": "3.7.4"
  }
 },
 "nbformat": 4,
 "nbformat_minor": 2
}
