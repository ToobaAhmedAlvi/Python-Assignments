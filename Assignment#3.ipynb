{
 "cells": [
  {
   "cell_type": "code",
   "execution_count": 3,
   "metadata": {},
   "outputs": [
    {
     "name": "stdout",
     "output_type": "stream",
     "text": [
      "Select your Choice -\n",
      "1. Add\n",
      "2. Subtract\n",
      "3. Multiply\n",
      "4. Divide\n",
      "\n",
      "Select choice 1 for addition,2 for minus,3 for multiplication,4 for division :3\n",
      "Enter 1st no.: 4\n",
      "Enter 2nd no.: 7\n",
      "4 * 7 = 28\n"
     ]
    }
   ],
   "source": [
    "# Function to add two numbers  \n",
    "def add(num1, num2): \n",
    "    return num1 + num2 \n",
    "  \n",
    "# Function to subtract two numbers  \n",
    "def subtract(num1, num2): \n",
    "    return num1 - num2 \n",
    "  \n",
    "# Function to multiply two numbers \n",
    "def multiply(num1, num2): \n",
    "    return num1 * num2 \n",
    "  \n",
    "# Function to divide two numbers \n",
    "def divide(num1, num2): \n",
    "    return num1 / num2 \n",
    "  \n",
    "print(\"Select your Choice -\\n\" \"1. Add\\n\" \n",
    "        \"2. Subtract\\n\" \n",
    "        \"3. Multiply\\n\"  \n",
    "        \"4. Divide\\n\") \n",
    "select = input(\"Select choice 1 for addition,2 for minus,3 for multiplication,4 for division :\") \n",
    "  \n",
    "num1 = int(input(\"Enter 1st no.: \")) \n",
    "num2 = int(input(\"Enter 2nd no.: \")) \n",
    "  \n",
    "if select == '1': \n",
    "    print(num1, \"+\", num2, \"=\", \n",
    "                    add(num1, num2)) \n",
    "  \n",
    "elif select == '2': \n",
    "    print(num1, \"-\", num2, \"=\", \n",
    "                    subtract(num1, num2)) \n",
    "  \n",
    "elif select == '3': \n",
    "    print(num1, \"*\", num2, \"=\", \n",
    "                    multiply(num1, num2)) \n",
    "  \n",
    "elif select == '4': \n",
    "    print(num1, \"/\", num2, \"=\", \n",
    "                    divide(num1, num2)) \n",
    "else: \n",
    "    print(\"Invalid input\") "
   ]
  },
  {
   "cell_type": "code",
   "execution_count": 9,
   "metadata": {},
   "outputs": [
    {
     "name": "stdout",
     "output_type": "stream",
     "text": [
      "Numeric value is present.\n",
      "Numeric Value is not present.\n",
      "Numeric Value is not present.\n"
     ]
    }
   ],
   "source": [
    "list=[2,\"tooba\",\"sana\"]\n",
    "for a in list:\n",
    "        if type(a)==int or type(a)==float:\n",
    "            print(\"Numeric value is present.\");\n",
    "        else:\n",
    "            print(\"Numeric Value is not present.\")"
   ]
  },
  {
   "cell_type": "code",
   "execution_count": 11,
   "metadata": {},
   "outputs": [
    {
     "name": "stdout",
     "output_type": "stream",
     "text": [
      "{0: 'toooba', 1: 'sana'}\n",
      "{0: 'toooba', 1: 'sana', 2: 'nimra'}\n"
     ]
    }
   ],
   "source": [
    "dictionary  = {0:\"toooba\", 1:\"sana\"}  \n",
    "print(dictionary)  \n",
    "dictionary.update({2:\"nimra\"})  \n",
    "print(dictionary)  "
   ]
  },
  {
   "cell_type": "code",
   "execution_count": 15,
   "metadata": {},
   "outputs": [
    {
     "name": "stdout",
     "output_type": "stream",
     "text": [
      "Sum : 40\n"
     ]
    }
   ],
   "source": [
    " def returnSum(dict): \n",
    "      \n",
    "     sum = 0\n",
    "     for i in dict.values(): \n",
    "           sum = sum + i \n",
    "       \n",
    "     return sum\n",
    "  \n",
    "\n",
    "dict = {'a': 13, 'b':24, 'c':3} \n",
    "print(\"Sum :\", returnSum(dict)) "
   ]
  },
  {
   "cell_type": "code",
   "execution_count": 8,
   "metadata": {},
   "outputs": [
    {
     "name": "stdout",
     "output_type": "stream",
     "text": [
      "45  is a duplicate value\n",
      "chocolate  is a duplicate value\n"
     ]
    }
   ],
   "source": [
    "list=[\"vanila\",\"34\",45,\"chocolate\",\"15\",\"icecream\",\"mango\",\"chocolate\",45,15]\n",
    "for i in range(0,len(list)-1):\n",
    "\n",
    "    for j in range(i+1,len(list)):\n",
    "        if list[i]==list[j]:\n",
    "            print(list[i],\" is a duplicate value\")"
   ]
  },
  {
   "cell_type": "code",
   "execution_count": 19,
   "metadata": {},
   "outputs": [
    {
     "name": "stdout",
     "output_type": "stream",
     "text": [
      "Key is present in the dictionary\n",
      "Key is not present in the dictionary\n"
     ]
    }
   ],
   "source": [
    "d = {1: \"Apple\", 2:\"Orange\", 3:\"PineApple\", 4:\"Banana\", 5:\"Mango\", 6:\"StrawBerry\"}\n",
    "def key_exists(x):\n",
    "  if x in d:\n",
    "      print('Key is present in the dictionary')\n",
    "  else:\n",
    "      print('Key is not present in the dictionary')\n",
    "key_exists(2)\n",
    "key_exists(7)"
   ]
  },
  {
   "cell_type": "code",
   "execution_count": null,
   "metadata": {},
   "outputs": [],
   "source": []
  }
 ],
 "metadata": {
  "kernelspec": {
   "display_name": "Python 3",
   "language": "python",
   "name": "python3"
  },
  "language_info": {
   "codemirror_mode": {
    "name": "ipython",
    "version": 3
   },
   "file_extension": ".py",
   "mimetype": "text/x-python",
   "name": "python",
   "nbconvert_exporter": "python",
   "pygments_lexer": "ipython3",
   "version": "3.7.4"
  }
 },
 "nbformat": 4,
 "nbformat_minor": 2
}
