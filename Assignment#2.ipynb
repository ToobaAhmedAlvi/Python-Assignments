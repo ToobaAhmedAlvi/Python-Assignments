{
 "cells": [
  {
   "cell_type": "code",
   "execution_count": 1,
   "metadata": {},
   "outputs": [
    {
     "name": "stdout",
     "output_type": "stream",
     "text": [
      "Enter your marks in 5 subjects: \n",
      "79\n",
      "89\n",
      "65\n",
      "78\n",
      "34\n",
      "Subject [ 0 ] =  79.0\n",
      "Subject [ 1 ] =  89.0\n",
      "Subject [ 2 ] =  65.0\n",
      "Subject [ 3 ] =  78.0\n",
      "Subject [ 4 ] =  34.0\n",
      "Obtained Marks =  345.0\n",
      "Percentage is =  69.0 %.\n",
      "you got a B\n"
     ]
    }
   ],
   "source": [
    "print(\"Enter your marks in 5 subjects: \")\n",
    "marks=[]\n",
    "sum=0\n",
    "for i in range(0,5):\n",
    "    marks.append(float(input()))\n",
    "    sum=sum+marks[i]\n",
    "    \n",
    "\n",
    "for i in range(0,5):\n",
    "    print(\"Subject [\",i,\"] = \",marks[i])\n",
    "    \n",
    "print(\"Obtained Marks = \",sum)\n",
    "p=sum*100/500\n",
    "print(\"Percentage is = \",p,\"%.\")\n",
    "if (p>=80):\n",
    "    print(\"you got an A plus\")\n",
    "elif (p>=70 and p<80):\n",
    "    print(\"you got a A\")\n",
    "elif (p>=60 and p<70):\n",
    "    print(\"you got a B\")\n",
    "elif (p>=50 and p<60):\n",
    "    print(\"you got a C\")\n",
    "else:\n",
    "    print(\"Fail..\")"
   ]
  },
  {
   "cell_type": "code",
   "execution_count": 5,
   "metadata": {},
   "outputs": [
    {
     "name": "stdout",
     "output_type": "stream",
     "text": [
      "Enter a number: 5\n",
      "the no. is Odd which is 5\n"
     ]
    }
   ],
   "source": [
    "num = int(input(\"Enter a number: \"))\n",
    "if (num % 2) == 0:\n",
    "   print(\"the no. is Even which is\",(num))\n",
    "else:\n",
    "   print(\"the no. is Odd which is\",(num))"
   ]
  },
  {
   "cell_type": "code",
   "execution_count": 6,
   "metadata": {},
   "outputs": [
    {
     "name": "stdout",
     "output_type": "stream",
     "text": [
      "The length of list is:  4\n"
     ]
    }
   ],
   "source": [
    "a = ['happy','new','year',2020] \n",
    "\n",
    "print(\"The length of list is: \", len(a)) "
   ]
  },
  {
   "cell_type": "code",
   "execution_count": 4,
   "metadata": {},
   "outputs": [
    {
     "name": "stdout",
     "output_type": "stream",
     "text": [
      "186\n"
     ]
    }
   ],
   "source": [
    "items=[34,67,54,21,10]\n",
    "sum=0\n",
    "for i in range(0,len(items)):\n",
    "    sum=sum+items[i]\n",
    "print(sum)"
   ]
  },
  {
   "cell_type": "code",
   "execution_count": 3,
   "metadata": {},
   "outputs": [
    {
     "name": "stdout",
     "output_type": "stream",
     "text": [
      "the largest no from list is 2456\n"
     ]
    }
   ],
   "source": [
    "list=[34,567,89,2456,890,245]\n",
    "largest=list[0]\n",
    "for m in range(1,len(list)):\n",
    "    if largest<list[m]:\n",
    "        largest=list[m]\n",
    "print(\"the largest no from list is\",largest)"
   ]
  },
  {
   "cell_type": "code",
   "execution_count": 7,
   "metadata": {},
   "outputs": [
    {
     "name": "stdout",
     "output_type": "stream",
     "text": [
      "1\n",
      "1\n",
      "2\n",
      "3\n"
     ]
    }
   ],
   "source": [
    "a=[1,1,2,3,5,8,13,21,34,55,89]\n",
    "    \n",
    "for i in range(0,len(a)):\n",
    "    if a[i]<5:\n",
    "        print(a[i])"
   ]
  },
  {
   "cell_type": "code",
   "execution_count": null,
   "metadata": {},
   "outputs": [],
   "source": []
  }
 ],
 "metadata": {
  "kernelspec": {
   "display_name": "Python 3",
   "language": "python",
   "name": "python3"
  },
  "language_info": {
   "codemirror_mode": {
    "name": "ipython",
    "version": 3
   },
   "file_extension": ".py",
   "mimetype": "text/x-python",
   "name": "python",
   "nbconvert_exporter": "python",
   "pygments_lexer": "ipython3",
   "version": "3.7.4"
  }
 },
 "nbformat": 4,
 "nbformat_minor": 2
}
