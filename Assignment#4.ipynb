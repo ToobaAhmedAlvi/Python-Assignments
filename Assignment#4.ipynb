{
 "cells": [
  {
   "cell_type": "code",
   "execution_count": 1,
   "metadata": {},
   "outputs": [
    {
     "name": "stdout",
     "output_type": "stream",
     "text": [
      "Tooba\n",
      "Ahmed Alvi\n",
      "18\n",
      "Karachi\n",
      "{'first_name': 'Tooba', 'last_name': 'Ahmed Alvi', 'age': 18, 'city': 'Karachi', 'qualification': 'newvalue'}\n",
      "{'first_name': 'Tooba', 'last_name': 'Ahmed Alvi', 'age': 18, 'city': 'Karachi', 'qualification': 'HighAcademicValue'}\n",
      "{'first_name': 'Tooba', 'last_name': 'Ahmed Alvi', 'age': 18, 'city': 'Karachi'}\n"
     ]
    }
   ],
   "source": [
    "#Q1\n",
    "person = {\n",
    "    'first_name': 'Tooba',\n",
    "    'last_name': 'Ahmed Alvi',\n",
    "    'age': 18,\n",
    "    'city': 'Karachi',\n",
    "    }\n",
    "\n",
    "print(person['first_name'])\n",
    "print(person['last_name'])\n",
    "print(person['age'])\n",
    "print(person['city'])\n",
    "person['qualification'] = 'newvalue'\n",
    "print(person)\n",
    "person['qualification'] = 'HighAcademicValue'\n",
    "print(person)\n",
    "del person['qualification']\n",
    "print(person)"
   ]
  },
  {
   "cell_type": "code",
   "execution_count": 2,
   "metadata": {},
   "outputs": [
    {
     "name": "stdout",
     "output_type": "stream",
     "text": [
      "\n",
      "Lahore is in Pakistan.\n",
      "  It has a population of about 11.13 million.\n",
      "  The interesting fact is Lahore City In The World That Has 16 Dialects.\n",
      "\n",
      "New Delhi is in India.\n",
      "  It has a population of about 21.75 million.\n",
      "  The interesting fact is Newdelhi Is Home To The World’S Tallest Brick Minaret: The Qutub Minar.\n",
      "\n",
      "Tokyo is in Japan.\n",
      "  It has a population of about 9.23 million.\n",
      "  The interesting fact is Tokyo Is The Largest Metropolitan City In The World.\n"
     ]
    }
   ],
   "source": [
    "#Q#2\n",
    "cities = {\n",
    "    'Lahore': {\n",
    "        'country': 'Pakistan',\n",
    "        'population': '11.13 million',\n",
    "        'interesting_fact':'Lahore City in the world that has 16 dialects',\n",
    "        },\n",
    "    'New Delhi': {\n",
    "        'country': 'India',\n",
    "        'population':'21.75 million',\n",
    "        'interesting_fact': 'NewDelhi is home to the world’s tallest brick minaret: the Qutub Minar',\n",
    "        },\n",
    "    'Tokyo': {\n",
    "        'country': 'Japan',\n",
    "        'population':'9.23 million' ,\n",
    "        'interesting_fact':'Tokyo is the largest metropolitan city in the world',\n",
    "        }\n",
    "    }\n",
    "\n",
    "for city, city_info in cities.items():\n",
    "    country = city_info['country'].title()\n",
    "    population = city_info['population']\n",
    "    fact = city_info['interesting_fact'].title()\n",
    "\n",
    "    print(\"\\n\" + city.title() + \" is in \" + country + \".\")\n",
    "    print(\"  It has a population of about \" + population + \".\")\n",
    "    print(\"  The interesting fact is \" + fact +\".\")"
   ]
  },
  {
   "cell_type": "code",
   "execution_count": 11,
   "metadata": {},
   "outputs": [
    {
     "name": "stdout",
     "output_type": "stream",
     "text": [
      "WELCOME TO TICKET PURCHASING SYSTEM \n",
      "Please Enter your age or else write quit to exit3\n",
      "  Your ticket is $10.\n",
      "Please Enter your age or else write quit to exit5\n",
      "  Your ticket is $10.\n",
      "Please Enter your age or else write quit to exit98\n",
      "  Your ticket is $15.\n",
      "Please Enter your age or else write quit to exitquit\n",
      "Thank You for using our services\n"
     ]
    }
   ],
   "source": [
    "#Q#3\n",
    "print(\"WELCOME TO TICKET PURCHASING SYSTEM \")\n",
    "\n",
    "\n",
    "while True:\n",
    "    age=input(\"Please Enter your age or else write quit to exit\")\n",
    "    if age == 'quit':\n",
    "        print(\"Thank You for using our services\")\n",
    "        break\n",
    "    age=int(age)\n",
    "    if age < 3:\n",
    "        print(\"  Your ticket is free!\")\n",
    "    \n",
    "    elif age < 13:\n",
    "        print(\"  Your ticket is $10.\")\n",
    "        \n",
    "    else:\n",
    "        print(\"  Your ticket is $15.\")\n"
   ]
  },
  {
   "cell_type": "code",
   "execution_count": 13,
   "metadata": {},
   "outputs": [
    {
     "name": "stdout",
     "output_type": "stream",
     "text": [
      "The Tale Of Two Cities is one of my favorite books.\n"
     ]
    }
   ],
   "source": [
    "#Q#4\n",
    "def my_favorite_book(Title):\n",
    "    \n",
    "    print(Title + \" is one of my favorite books.\")\n",
    "\n",
    "my_favorite_book('The Tale Of Two Cities')"
   ]
  },
  {
   "cell_type": "code",
   "execution_count": 2,
   "metadata": {},
   "outputs": [
    {
     "name": "stdout",
     "output_type": "stream",
     "text": [
      "Tooba Alvi\n",
      "Well, Tooba Alvi, I am thinking of a number between 1 and 30.\n",
      "Take a guess.\n",
      "20\n",
      "Your guess is too low.\n",
      "Take a guess.\n",
      "25\n",
      "Superb!, Tooba Alvi! You guessed my number in 2 guesses!\n"
     ]
    }
   ],
   "source": [
    "#Q#5\n",
    "import random\n",
    "guessesTaken = 0\n",
    "Name = input()\n",
    "num = random.randint(1, 30)\n",
    "print('Well, ' + Name + ', I am thinking of a number between 1 and 30.')\n",
    "while guessesTaken < 4:\n",
    "    print('Take a guess.')\n",
    "   \n",
    "    guess = input()\n",
    "    guess = int(guess)\n",
    "    guessesTaken = guessesTaken + 1\n",
    "    if guess < num:\n",
    "        print('Your guess is too low.')\n",
    "    if guess > num:\n",
    "        print('Your guess is too high.')\n",
    "    if guess == num:\n",
    "        break\n",
    "if guess == num:\n",
    "        guessesTaken = str(guessesTaken)\n",
    "        print('Superb!, ' + Name + '! You guessed my number in ' + guessesTaken + ' guesses!')\n",
    "if guess != num:\n",
    "        num = str(num)\n",
    "        print('Sorry ... The number I was thinking of was ' + num+\" \"+'Better Luck Next Time')"
   ]
  },
  {
   "cell_type": "code",
   "execution_count": null,
   "metadata": {},
   "outputs": [],
   "source": []
  },
  {
   "cell_type": "code",
   "execution_count": null,
   "metadata": {},
   "outputs": [],
   "source": []
  }
 ],
 "metadata": {
  "kernelspec": {
   "display_name": "Python 3",
   "language": "python",
   "name": "python3"
  },
  "language_info": {
   "codemirror_mode": {
    "name": "ipython",
    "version": 3
   },
   "file_extension": ".py",
   "mimetype": "text/x-python",
   "name": "python",
   "nbconvert_exporter": "python",
   "pygments_lexer": "ipython3",
   "version": "3.7.4"
  }
 },
 "nbformat": 4,
 "nbformat_minor": 2
}
