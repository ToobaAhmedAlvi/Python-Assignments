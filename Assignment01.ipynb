{
 "cells": [
  {
   "cell_type": "code",
   "execution_count": 1,
   "metadata": {},
   "outputs": [
    {
     "name": "stdout",
     "output_type": "stream",
     "text": [
      "Twinkle, twinkle, little star,\n",
      "\tHow I wonder what you are!\n",
      "\t\tUp above the world so high,\n",
      "\t\tLike a diamond in the sky.\n",
      "Twinkle, twinkle, little star,\n",
      "\tHow I wonder what you are!\n"
     ]
    }
   ],
   "source": [
    "print(\"Twinkle, twinkle, little star,\" \n",
    "      \"\\n\\tHow I wonder what you are!\"\n",
    "      \"\\n\\t\\tUp above the world so high,\" \n",
    "      \"\\n\\t\\tLike a diamond in the sky.\" \n",
    "      \"\\nTwinkle, twinkle, little star,\"\n",
    "      \"\\n\\tHow I wonder what you are!\")\n"
   ]
  },
  {
   "cell_type": "code",
   "execution_count": 2,
   "metadata": {},
   "outputs": [
    {
     "name": "stdout",
     "output_type": "stream",
     "text": [
      "Python version\n",
      "3.7.4 (default, Aug  9 2019, 18:34:13) [MSC v.1915 64 bit (AMD64)]\n",
      "Version info.\n",
      "sys.version_info(major=3, minor=7, micro=4, releaselevel='final', serial=0)\n"
     ]
    }
   ],
   "source": [
    "import sys\n",
    "print(\"Python version\")\n",
    "print (sys.version)\n",
    "print(\"Version info.\")\n",
    "print (sys.version_info)\n",
    "\n"
   ]
  },
  {
   "cell_type": "code",
   "execution_count": 3,
   "metadata": {},
   "outputs": [
    {
     "name": "stdout",
     "output_type": "stream",
     "text": [
      "Current date and time : \n",
      "2019-11-05 20:31:38\n"
     ]
    }
   ],
   "source": [
    "import datetime\n",
    "now = datetime.datetime.now()\n",
    "print (\"Current date and time : \")\n",
    "print (now.strftime(\"%Y-%m-%d %H:%M:%S\"))"
   ]
  },
  {
   "cell_type": "code",
   "execution_count": 4,
   "metadata": {},
   "outputs": [
    {
     "name": "stdout",
     "output_type": "stream",
     "text": [
      "ENTER THE RADIUS OF YOUR DESIRED CHOICE TO  GET AREA\n",
      "5\n",
      "THE AREA OF CIRCLE IS 78.55\n"
     ]
    }
   ],
   "source": [
    "radius=int(input(\"ENTER THE RADIUS OF YOUR DESIRED CHOICE TO  GET AREA\\n\"))\n",
    "area=3.142*radius*radius\n",
    "print(\"THE AREA OF CIRCLE IS\",area)"
   ]
  },
  {
   "cell_type": "code",
   "execution_count": 5,
   "metadata": {},
   "outputs": [
    {
     "name": "stdout",
     "output_type": "stream",
     "text": [
      "ENTER FIRST NAME\n",
      "Tooba\n",
      "ENTER LAST NAME\n",
      "Alvi\n",
      "Alvi Tooba\n"
     ]
    }
   ],
   "source": [
    "firstname=input(\"ENTER FIRST NAME\\n\")\n",
    "lastname=input(\"ENTER LAST NAME\\n\")\n",
    "reverse=lastname+\" \"+firstname\n",
    "print(reverse)"
   ]
  },
  {
   "cell_type": "code",
   "execution_count": 6,
   "metadata": {},
   "outputs": [
    {
     "name": "stdout",
     "output_type": "stream",
     "text": [
      "Enter your 1st no.\n",
      "3\n",
      "Enter your 2nd no.\n",
      "5\n",
      "the sum of x&y numbers is 8\n"
     ]
    }
   ],
   "source": [
    "x=int(input(\"Enter your 1st no.\\n\"))\n",
    "y=int(input(\"Enter your 2nd no.\\n\"))\n",
    "addition=x+y\n",
    "print(\"the sum of \"+\"x\" +\"&\"+ \"y\"+\" numbers is\",addition)\n"
   ]
  },
  {
   "cell_type": "code",
   "execution_count": null,
   "metadata": {},
   "outputs": [],
   "source": []
  },
  {
   "cell_type": "code",
   "execution_count": null,
   "metadata": {},
   "outputs": [],
   "source": []
  }
 ],
 "metadata": {
  "kernelspec": {
   "display_name": "Python 3",
   "language": "python",
   "name": "python3"
  },
  "language_info": {
   "codemirror_mode": {
    "name": "ipython",
    "version": 3
   },
   "file_extension": ".py",
   "mimetype": "text/x-python",
   "name": "python",
   "nbconvert_exporter": "python",
   "pygments_lexer": "ipython3",
   "version": "3.7.4"
  }
 },
 "nbformat": 4,
 "nbformat_minor": 2
}
